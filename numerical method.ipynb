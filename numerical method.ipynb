{
 "cells": [
  {
   "cell_type": "markdown",
   "id": "53bc813c",
   "metadata": {},
   "source": [
    "## function approx.\n",
    "给定一个函数$f$，其定义域为$\\mathcal{X}$，其中任意元素$x\\in \\mathcal{X}$都是无穷维的。那么对于这样的函数的处理方式是：考虑有限多个前定的函数$\\{B_k(\\cdot)\\}_{k=1}^N$去构造多项式来逼近。这些函数我们称作基函数（basis function）\n",
    "现在根据 weierstrass 定理，我们可以直接用多项式去逼近任意连续函数$$\n",
    "F(x)\\approx \\sum_{k=0}^N b_k B_k(x)$$\n",
    "其中$B_k = x^k$,\n",
    "那么现在的问题就在于如何确定有限多个系数\n",
    "$b_k$\n",
    "假设我们知道定义域中的一个子集$X\\subset\\mathcal{X}$中函数$F$的取值$Y =\\{F(x):x\\in X\\}$，那么确定多项式系数的问题就转化为了，估计系数的问题"
   ]
  },
  {
   "cell_type": "markdown",
   "id": "ab736bf5",
   "metadata": {},
   "source": [
    "$$\\left(\\begin{array}{cc}\n",
    "1 &x_1 &x_1^2 &x_1^3\\\\\n",
    "1 &x_2 &x_2^2 &x_2^3\\\\\n",
    "\\vdots&\\vdots&\\vdots&\\vdots\\\\\n",
    "1 &x_J &x_J^2 &x_J^3\\\\\n",
    "\n",
    "\\end{array}\\right)\n",
    "\\left(\\begin{array}{cc}\n",
    "b_0\\\\b_1\\\\b_2\\\\b_3\n",
    "\\end{array}\\right) =\n",
    "\\left(\\begin{array}{cc}\n",
    "y_0\\\\y_1\\\\y_2\\\\y_3\\end{array}\\right)\n",
    "$$"
   ]
  },
  {
   "cell_type": "markdown",
   "id": "ddb979cb",
   "metadata": {},
   "source": [
    "现在如果$B(X)$（基矩阵）如果是满秩的，我们直接左乘逆矩阵即可；否则我们可以考虑最小化平方差，即 OLS\n",
    "$$\\hat{b} = [B(X)'B(X)]^{-1}B(X)'Y$$"
   ]
  },
  {
   "cell_type": "markdown",
   "id": "20a91620",
   "metadata": {},
   "source": [
    "## 利用近似做插值\n",
    "给定上述估计系数，如果我们现在关心样本外点（$\\tilde{X}=\\mathcal{X}-X$）的取值$\\tilde{Y}$，我们的做法是构造相应的基矩阵$B(\\tilde{X})$，但是利用估计系数计算：\n",
    "$$ \\tilde{Y} = B(\\tilde{X})\\hat{b}\n",
    "$$\n",
    "对于插值的精确度，我们通常计算误差的上确界范数$ || R(\\tilde{X})||_{\\infty}$\n",
    "$$R(\\tilde{X})= \\tilde{Y}-F(\\tilde{X})\n",
    "$$"
   ]
  },
  {
   "cell_type": "markdown",
   "id": "97f28ba7",
   "metadata": {},
   "source": [
    "## 例子"
   ]
  },
  {
   "cell_type": "code",
   "execution_count": 1,
   "id": "5d351e06",
   "metadata": {},
   "outputs": [],
   "source": [
    "using LinearAlgebra"
   ]
  },
  {
   "cell_type": "code",
   "execution_count": 4,
   "id": "a8675d9d",
   "metadata": {},
   "outputs": [
    {
     "data": {
      "text/plain": [
       "PolyBasis_2nd (generic function with 1 method)"
      ]
     },
     "metadata": {},
     "output_type": "display_data"
    }
   ],
   "source": [
    "function PolyBasis_2nd(K::Array,Z::Array)\n",
    "    \"\"\"\n",
    "    % B  = PolyBasis(K,Z)\n",
    "    % Polynomial basis functions.  Using 2nd order polynomial\n",
    "    %\n",
    "    % inputs\n",
    "    % K    n x 1   points for K\n",
    "    % Z    n x 1   points for Z\n",
    "    %     or scalar for Z\n",
    "    %\n",
    "    % outputs\n",
    "    % B    n x 6   array of basis functions: 1, K, Z, K^2, K*Z, Z^2\n",
    "    \"\"\"\n",
    "    Zb = Z .* ones(length(K),1);\n",
    "    B = [\n",
    "        ones(length(K),1) K Zb K.^2 K.*Zb Zb.^2\n",
    "    ];\n",
    "    return B\n",
    "end"
   ]
  },
  {
   "cell_type": "code",
   "execution_count": null,
   "id": "b97b2204",
   "metadata": {},
   "outputs": [
    {
     "data": {
      "text/plain": [
       "PolyGetCoef (generic function with 1 method)"
      ]
     },
     "metadata": {},
     "output_type": "display_data"
    }
   ],
   "source": [
    "function PolyGetCoef(K::Array,Z::Array,Y::Array)\n",
    "    \"\"\"\n",
    "    % b = PolyGetCoef(Grid,Y)\n",
    "    %   Fits the polynomial from PolyBasis to the function(s) in column(s) of\n",
    "    %   Y.\n",
    "    %\n",
    "    % inputs\n",
    "    % K    n x 1   points for K\n",
    "    % Z    n x 1   points for Z\n",
    "    % Y    n x 1   valies for function at (K,Z)\n",
    "    %\n",
    "    % outputs\n",
    "    % b    6 x 1   basis coefficients\n",
    "    \"\"\"\n",
    "    b = PolyBasis(K,Z) \\ Y;\n",
    "    return b\n",
    "end"
   ]
  },
  {
   "cell_type": "code",
   "execution_count": null,
   "id": "d7f1842b",
   "metadata": {},
   "outputs": [],
   "source": []
  }
 ],
 "metadata": {
  "kernelspec": {
   "display_name": "Julia 1.11.5",
   "language": "julia",
   "name": "julia-1.11"
  },
  "language_info": {
   "file_extension": ".jl",
   "mimetype": "application/julia",
   "name": "julia",
   "version": "1.11.5"
  }
 },
 "nbformat": 4,
 "nbformat_minor": 5
}
