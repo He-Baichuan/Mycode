{
 "cells": [
  {
   "cell_type": "markdown",
   "id": "2d7c558a",
   "metadata": {},
   "source": [
    "如何计算一个离散时间、有限状态的马尔科夫过程：$$\\Pi =(\\pi_1,...,\\pi_n)$$服从$$\\sum_i^n\\pi_i=1$$且$$\\Pi_{t+1} =\\Pi_tP$$其中$P=(p_{ij}),p_{ij} = \\mathbb{P}(X_{t+1}=j|X_t =i)$"
   ]
  },
  {
   "cell_type": "markdown",
   "id": "0928c815",
   "metadata": {},
   "source": [
    "那么如何求解这个马尔可夫过程$\\Pi$的稳态分布呢？我们可以考虑如下线性方程组的解："
   ]
  },
  {
   "cell_type": "markdown",
   "metadata": {},
   "source": [
    "$$\n",
    "\\begin{cases}\n",
    "(P^T - I)\\Pi^T = 0 \\\\\n",
    "\\mathbf{1}^T \\Pi^T = \\mathbf{1}\n",
    "\\end{cases}\n",
    "$$"
   ]
  },
  {
   "cell_type": "markdown",
   "id": "8a5991b8",
   "metadata": {},
   "source": [
    "第一种方法是利用矩阵求逆直接求解上述线性方组，但可能遭遇数值不稳定的问题！"
   ]
  },
  {
   "cell_type": "markdown",
   "id": "2708faea",
   "metadata": {},
   "source": [
    "第二种方法是从下述公式出发$$P^T\\Pi^T = 1\\times\\Pi^T$$\n",
    "显然$(1,\\Pi^T)$可以看作是$P^T$的特征值和特征向量，那么我们只有求解$P^T$的特征向量，找出与特征值为$1$所对应的特征向量，再将其各分量全部标准化即可。"
   ]
  },
  {
   "cell_type": "markdown",
   "id": "427359fc",
   "metadata": {},
   "source": [
    "第三种办法则是简单粗暴的模拟方法，即从给定的概率向量开始，依照状态转移方程迭代计算，直到误差不超过容忍度：\n",
    "$$||\\Pi^{(0)}||=1,\\ \\Pi^{(1)}=\\Pi^{(0)}P$$"
   ]
  },
  {
   "cell_type": "code",
   "execution_count": 18,
   "id": "148ebd30-696b-4b69-bb5d-e7edeef8b463",
   "metadata": {},
   "outputs": [
    {
     "name": "stdout",
     "output_type": "stream",
     "text": [
      "稳态分布 π = [0.2500000000000007, 0.24999999999999983, 0.4999999999999995]\n"
     ]
    }
   ],
   "source": [
    "using LinearAlgebra\n",
    "\n",
    "\"\"\"\n",
    "distributionSS(P::AbstractMatrix{<:Real}; method=:eigen, maxit = 1e5)\n",
    "基于特征向量法和模拟方法计算状态转移矩阵 P 的稳态分布 π，\n",
    "要求 P 是行和为 1 的方阵。\n",
    "\"\"\"\n",
    "function distributionSS(P::AbstractMatrix{<:Real}; method=:eigen,maxit = 1e5)\n",
    "    P = transpose(P)  #先转置为方便求解的矩阵形式\n",
    "    n, m = size(P)\n",
    "    @assert n == m \"P 必须是方阵\"\n",
    "    # 检验转置后的矩阵列和为 1，也就是说原始状态转移矩阵的行和为 1\n",
    "    tol = 1e-12\n",
    "    @assert all(abs.(sum(P, dims=1)[:] .- 1) .< tol) \"P 的每行和必须为 1\"\n",
    "    if method == :eigen\n",
    "        # 对 P 求右特征分解\n",
    "        F = eigen(P)\n",
    "        # 定位特征值最接近 1 的索引\n",
    "        idx = argmin(abs.(F.values .- 1))\n",
    "        # 提取对应的特征向量，并取实部\n",
    "        v = real(F.vectors[:, idx])\n",
    "        # 归一化特征向量\n",
    "        π = v / sum(v)\n",
    "        return π\n",
    "    elseif method == :simulate\n",
    "        v = zeros(size(P, 1))\n",
    "        v[1] = 1.0;\n",
    "        for it in 1:maxit\n",
    "            v = P * v\n",
    "           if it % 100 ==0 && all(abs.(v-P*v).<1e-12)\n",
    "                break\n",
    "            end\n",
    "        end\n",
    "        return v\n",
    "\n",
    "    else\n",
    "        error(\"不支持的方法：$method\")\n",
    "    end\n",
    "end\n",
    "\n",
    "# 使用示例\n",
    "P = [0.9 0.1 0.0;\n",
    "     0.1 0.5 0.4;\n",
    "     0.0 0.2 0.8]  # 列和均为 1\n",
    "π = distributionSS(P)\n",
    "println(\"稳态分布 π = \", π)\n"
   ]
  }
 ],
 "metadata": {
  "kernelspec": {
   "display_name": "Julia 1.9.3",
   "language": "julia",
   "name": "julia-1.9"
  },
  "language_info": {
   "file_extension": ".jl",
   "mimetype": "application/julia",
   "name": "julia",
   "version": "1.9.3"
  }
 },
 "nbformat": 4,
 "nbformat_minor": 5
}
